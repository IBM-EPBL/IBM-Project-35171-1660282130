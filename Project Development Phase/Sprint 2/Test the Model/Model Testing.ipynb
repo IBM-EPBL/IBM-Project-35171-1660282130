{
 "cells": [
  {
   "cell_type": "markdown",
   "metadata": {},
   "source": [
    "## Model Building"
   ]
  },
  {
   "cell_type": "markdown",
   "metadata": {},
   "source": [
    "#### Import Packages"
   ]
  },
  {
   "cell_type": "code",
   "execution_count": 1,
   "metadata": {},
   "outputs": [],
   "source": [
    "from keras.models import load_model\n",
    "import numpy as np\n",
    "import cv2"
   ]
  },
  {
   "cell_type": "markdown",
   "metadata": {},
   "source": [
    "#### Load Model"
   ]
  },
  {
   "cell_type": "code",
   "execution_count": 2,
   "metadata": {},
   "outputs": [],
   "source": [
    "model = load_model('../Model Building/model.h5')"
   ]
  },
  {
   "cell_type": "markdown",
   "metadata": {},
   "source": [
    "#### Load The Test Image, Pre-Process It And Predict"
   ]
  },
  {
   "cell_type": "code",
   "execution_count": 3,
   "metadata": {},
   "outputs": [],
   "source": [
    "from skimage.transform import resize\n",
    "\n",
    "\n",
    "def detect(frame):\n",
    "  img = resize(frame, (64, 64, 1))\n",
    "  img = np.expand_dims(img, axis=0)\n",
    "  if (np.max(img) > 1):\n",
    "    img = img/255.0\n",
    "  prediction = model.predict(img)\n",
    "  print(prediction)\n",
    "  predict_x = model.predict(img)\n",
    "  prediction = np.argmax(predict_x, axis=1)\n",
    "  print(prediction)"
   ]
  },
  {
   "cell_type": "code",
   "execution_count": 4,
   "metadata": {},
   "outputs": [
    {
     "name": "stdout",
     "output_type": "stream",
     "text": [
      "1/1 [==============================] - 1s 594ms/step\n",
      "[[2.8213101e-09 5.5720965e-14 6.0499866e-07 6.4096985e-11 2.1819563e-10\n",
      "  3.3284713e-09 9.9999547e-01 3.9273386e-06 2.6697491e-11]]\n",
      "1/1 [==============================] - 0s 53ms/step\n",
      "[6]\n"
     ]
    }
   ],
   "source": [
    "frame = cv2.imread(r\"../../../Dataset/test_set/G/1.png\")\n",
    "data = detect(frame)"
   ]
  }
 ],
 "metadata": {
  "kernelspec": {
   "display_name": "Python 3.10.8 ('venv': venv)",
   "language": "python",
   "name": "python3"
  },
  "language_info": {
   "codemirror_mode": {
    "name": "ipython",
    "version": 3
   },
   "file_extension": ".py",
   "mimetype": "text/x-python",
   "name": "python",
   "nbconvert_exporter": "python",
   "pygments_lexer": "ipython3",
   "version": "3.10.8"
  },
  "orig_nbformat": 4,
  "vscode": {
   "interpreter": {
    "hash": "633ea81ba08c254f38c13cc6f42bd930e460a806b77a2dcee705cb077044f563"
   }
  }
 },
 "nbformat": 4,
 "nbformat_minor": 2
}
